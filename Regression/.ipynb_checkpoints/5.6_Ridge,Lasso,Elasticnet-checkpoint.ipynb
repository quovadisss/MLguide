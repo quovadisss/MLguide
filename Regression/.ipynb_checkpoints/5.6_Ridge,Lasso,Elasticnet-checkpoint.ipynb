{
 "cells": [
  {
   "cell_type": "markdown",
   "metadata": {},
   "source": [
    "## 규제선형모델이란? (Regulation linear model)"
   ]
  },
  {
   "cell_type": "markdown",
   "metadata": {},
   "source": [
    "최적 모델을 위한 cost함수 구성요소는 두가지다\n",
    "1. 학습데이터 잔차 오류 최소화(min(RSS))\n",
    "2. 회귀계수 크기 제어($\\alpha * ||W||^2_2$)\n"
   ]
  },
  {
   "cell_type": "markdown",
   "metadata": {},
   "source": [
    "Cost function goal = $min(RSS(W)) + \\alpha * ||W||^2_2$ <br>\n",
    "그래서 위에 공식에서 알파값이 0과 같이 작아지면 RSS를 최소화 하는 효과가 있고, 알파값이 무한대로 커지면 W를 0에 가깝게 최소화하게 된다. 알파값을 조정해 나가는 과정을 Regulation이라고 한다. "
   ]
  },
  {
   "cell_type": "markdown",
   "metadata": {},
   "source": [
    "Regulation에는 L1과 L2가 있다.<br>\n",
    "L1 regulation : $\\alpha * ||W||_1$과 같이 W의 절대값에 대해 페널티를 부여. 영향력이 크지 않은 회귀 계수 값을 0으로 변환<br>\n",
    "L2 regulation : $\\alpha * ||W||^2_2$과 같이 W의 제곱에 대해 페널티를 부여."
   ]
  },
  {
   "cell_type": "markdown",
   "metadata": {},
   "source": [
    "### Ridge <br>\n",
    "Ridge 같은 경우에는 L2를 사용한다."
   ]
  },
  {
   "cell_type": "code",
   "execution_count": 1,
   "metadata": {},
   "outputs": [
    {
     "name": "stderr",
     "output_type": "stream",
     "text": [
      "/Users/pistispark/opt/anaconda3/lib/python3.7/importlib/_bootstrap.py:219: RuntimeWarning: numpy.ufunc size changed, may indicate binary incompatibility. Expected 192 from C header, got 216 from PyObject\n",
      "  return f(*args, **kwds)\n",
      "/Users/pistispark/opt/anaconda3/lib/python3.7/importlib/_bootstrap.py:219: RuntimeWarning: numpy.ufunc size changed, may indicate binary incompatibility. Expected 192 from C header, got 216 from PyObject\n",
      "  return f(*args, **kwds)\n"
     ]
    }
   ],
   "source": [
    "from sklearn.linear_model import Ridge\n",
    "from sklearn.model_selection import cross_val_score\n",
    "from sklearn.datasets import load_boston\n",
    "import pandas as pd\n",
    "import numpy as np"
   ]
  },
  {
   "cell_type": "code",
   "execution_count": 2,
   "metadata": {},
   "outputs": [
    {
     "name": "stdout",
     "output_type": "stream",
     "text": [
      "(506, 14)\n",
      "<class 'pandas.core.frame.DataFrame'>\n",
      "RangeIndex: 506 entries, 0 to 505\n",
      "Data columns (total 14 columns):\n",
      "CRIM       506 non-null float64\n",
      "ZN         506 non-null float64\n",
      "INDUS      506 non-null float64\n",
      "CHAS       506 non-null float64\n",
      "NOX        506 non-null float64\n",
      "RM         506 non-null float64\n",
      "AGE        506 non-null float64\n",
      "DIS        506 non-null float64\n",
      "RAD        506 non-null float64\n",
      "TAX        506 non-null float64\n",
      "PTRATIO    506 non-null float64\n",
      "B          506 non-null float64\n",
      "LSTAT      506 non-null float64\n",
      "PRICE      506 non-null float64\n",
      "dtypes: float64(14)\n",
      "memory usage: 55.5 KB\n"
     ]
    }
   ],
   "source": [
    "# boston 데이터 세트\n",
    "boston = load_boston()\n",
    "\n",
    "# to dataframe\n",
    "bostondf = pd.DataFrame(boston.data, columns = boston.feature_names)\n",
    "\n",
    "# target = price\n",
    "bostondf['PRICE'] = boston.target\n",
    "print(bostondf.shape)\n",
    "bostondf.info()"
   ]
  },
  {
   "cell_type": "code",
   "execution_count": 5,
   "metadata": {},
   "outputs": [
    {
     "name": "stdout",
     "output_type": "stream",
     "text": [
      "[-11.422 -24.294 -28.144 -74.599 -28.517] [3.38  4.929 5.305 8.637 5.34 ] 5.518166280868971\n"
     ]
    }
   ],
   "source": [
    "y_target = bostondf['PRICE']\n",
    "X_data = bostondf.drop(['PRICE'], axis=1, inplace=False)\n",
    "\n",
    "# alpha=10으로 설정해 릿지 회귀 수행\n",
    "ridge = Ridge(alpha=10)\n",
    "neg_mse_scores = cross_val_score(ridge, X_data, y_target, scoring=\"neg_mean_squared_error\", cv=5)\n",
    "rmse_scores = np.sqrt(-1 * neg_mse_scores)\n",
    "avg_rmse = np.mean(rmse_scores)\n",
    "\n",
    "print(np.round(neg_mse_scores, 3), np.round(rmse_scores, 3), avg_rmse)"
   ]
  },
  {
   "cell_type": "code",
   "execution_count": 9,
   "metadata": {},
   "outputs": [
    {
     "name": "stdout",
     "output_type": "stream",
     "text": [
      "alpha0 avg_rmse:5.829\n",
      "alpha0.1 avg_rmse:5.788\n",
      "alpha1 avg_rmse:5.653\n",
      "alpha10 avg_rmse:5.518\n",
      "alpha100 avg_rmse:5.330\n"
     ]
    }
   ],
   "source": [
    "# 릿지에 사용될 alpha 파라미터의 값을 정의\n",
    "alphas = [0, 0.1, 1, 10, 100]\n",
    "\n",
    "# alphas list 값을 반복하면서 alpha에 따른 평균 rmse를 구함\n",
    "for alpha in alphas:\n",
    "    ridge = Ridge(alpha=alpha)\n",
    "    \n",
    "    #cross_val_scores 이용 평균 RMSE 계산\n",
    "    neg_mse_scores = cross_val_score(ridge, X_data, y_target, scoring=\"neg_mean_squared_error\", cv=5)\n",
    "    avg_rmse = np.mean(np.sqrt(-1 * neg_mse_scores))\n",
    "    print('alpha{0} avg_rmse:{1:.3f}'.format(alpha, avg_rmse))"
   ]
  },
  {
   "cell_type": "code",
   "execution_count": null,
   "metadata": {},
   "outputs": [],
   "source": []
  }
 ],
 "metadata": {
  "kernelspec": {
   "display_name": "Python 3",
   "language": "python",
   "name": "python3"
  },
  "language_info": {
   "codemirror_mode": {
    "name": "ipython",
    "version": 3
   },
   "file_extension": ".py",
   "mimetype": "text/x-python",
   "name": "python",
   "nbconvert_exporter": "python",
   "pygments_lexer": "ipython3",
   "version": "3.7.4"
  }
 },
 "nbformat": 4,
 "nbformat_minor": 2
}
