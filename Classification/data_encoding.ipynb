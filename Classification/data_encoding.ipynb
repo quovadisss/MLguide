{
 "cells": [
  {
   "cell_type": "markdown",
   "metadata": {},
   "source": [
    "# 데이터 인코딩\n",
    "## Label encoding\n",
    "카테고리 피터를 코드형 숫자 값으로 변환하는 것"
   ]
  },
  {
   "cell_type": "code",
   "execution_count": 3,
   "metadata": {},
   "outputs": [
    {
     "name": "stdout",
     "output_type": "stream",
     "text": [
      "인코딩 변환값: [0 1 2 3]\n",
      "인코딩 클래스: ['TV' '냉장고' '전자레인지' '컴퓨터']\n"
     ]
    }
   ],
   "source": [
    "#데이터 인코(레이블 인코딩)\n",
    "from sklearn.preprocessing import LabelEncoder\n",
    "\n",
    "items = ['TV', '냉장고', '전자레인지', '컴퓨터']\n",
    "\n",
    "# LabelEncoder를 객체로 생성한 후, fit()과 transform()으로 레이블 인코딩 수행.\n",
    "encoder = LabelEncoder()\n",
    "encoder.fit(items)\n",
    "labels = encoder.transform(items)\n",
    "print('인코딩 변환값:', labels)\n",
    "print('인코딩 클래스:', encoder.classes_)"
   ]
  },
  {
   "cell_type": "markdown",
   "metadata": {},
   "source": [
    "레이블 인코딩은 분류 값이 크면 알고리즘에서 가중치가 더 부가되서 생기는 문제점이 있다.<br>\n",
    "그래서 문제점을 해결한 <br>\n",
    "## One-hot encoding\n",
    "분류 할 대상은 1 나머지는 모두 0의 값으로 표현!"
   ]
  },
  {
   "cell_type": "code",
   "execution_count": 4,
   "metadata": {},
   "outputs": [
    {
     "name": "stdout",
     "output_type": "stream",
     "text": [
      "[[1. 0. 0. 0.]\n",
      " [0. 1. 0. 0.]\n",
      " [0. 0. 1. 0.]\n",
      " [0. 0. 0. 1.]]\n",
      "(4, 4)\n"
     ]
    }
   ],
   "source": [
    "# one-hot encoding\n",
    "from sklearn.preprocessing import OneHotEncoder\n",
    "import numpy as np\n",
    "\n",
    "labels = labels.reshape(-1,1)\n",
    "\n",
    "#one-hot encoding imply\n",
    "oh_encoder = OneHotEncoder(categories='auto')\n",
    "oh_encoder.fit(labels)\n",
    "oh_labels = oh_encoder.transform(labels)\n",
    "print(oh_labels.toarray())\n",
    "print(oh_labels.shape)"
   ]
  },
  {
   "cell_type": "markdown",
   "metadata": {},
   "source": [
    "# feature scaling \n",
    "## Standardization\n",
    "\\begin{equation*}\n",
    "\\mathbf{x}_i\\_new\\ = \\frac{\\mathbf{x}_i-mean(x)}{stdev(x)}\n",
    "\\end{equation*}\n",
    "<br>\n",
    "## Normalization\n",
    "\\begin{equation*}\n",
    "\\mathbf{x}_i\\_new\\ = \\frac{\\mathbf{x}_i-mean(x)}{max(x)-min(x)}\n",
    "\\end{equation*}\n",
    "<br>\n",
    "#### sklearn에서 제공하는 Normalizer 모듈과 일반적인 정규화는 약간의 차이가 있다. <br>\n",
    "#### 선형대수에서의 정규화 개념이 적용됐다.\n"
   ]
  }
 ],
 "metadata": {
  "kernelspec": {
   "display_name": "Python 3",
   "language": "python",
   "name": "python3"
  },
  "language_info": {
   "codemirror_mode": {
    "name": "ipython",
    "version": 3
   },
   "file_extension": ".py",
   "mimetype": "text/x-python",
   "name": "python",
   "nbconvert_exporter": "python",
   "pygments_lexer": "ipython3",
   "version": "3.7.4"
  }
 },
 "nbformat": 4,
 "nbformat_minor": 2
}
